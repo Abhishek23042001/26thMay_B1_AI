{
 "cells": [
  {
   "cell_type": "markdown",
   "metadata": {},
   "source": [
    "### Importing Necessary Modules"
   ]
  },
  {
   "cell_type": "code",
   "execution_count": 1,
   "metadata": {},
   "outputs": [],
   "source": [
    "import numpy as np\n",
    "import pandas as pd"
   ]
  },
  {
   "cell_type": "code",
   "execution_count": 2,
   "metadata": {},
   "outputs": [],
   "source": [
    "df = pd.read_csv('food_data.csv')"
   ]
  },
  {
   "cell_type": "markdown",
   "metadata": {},
   "source": [
    "### DataFrame of food_data.csv file"
   ]
  },
  {
   "cell_type": "code",
   "execution_count": 3,
   "metadata": {},
   "outputs": [
    {
     "data": {
      "text/html": [
       "<div>\n",
       "<style scoped>\n",
       "    .dataframe tbody tr th:only-of-type {\n",
       "        vertical-align: middle;\n",
       "    }\n",
       "\n",
       "    .dataframe tbody tr th {\n",
       "        vertical-align: top;\n",
       "    }\n",
       "\n",
       "    .dataframe thead th {\n",
       "        text-align: right;\n",
       "    }\n",
       "</style>\n",
       "<table border=\"1\" class=\"dataframe\">\n",
       "  <thead>\n",
       "    <tr style=\"text-align: right;\">\n",
       "      <th></th>\n",
       "      <th>Food Name</th>\n",
       "      <th>Price</th>\n",
       "      <th>City</th>\n",
       "      <th>Color</th>\n",
       "      <th>Cuisine</th>\n",
       "      <th>Taste</th>\n",
       "    </tr>\n",
       "  </thead>\n",
       "  <tbody>\n",
       "    <tr>\n",
       "      <td>0</td>\n",
       "      <td>Dhokla</td>\n",
       "      <td>30</td>\n",
       "      <td>Ahemdabad</td>\n",
       "      <td>Yellow</td>\n",
       "      <td>Gujrati</td>\n",
       "      <td>sweet and spicy</td>\n",
       "    </tr>\n",
       "    <tr>\n",
       "      <td>1</td>\n",
       "      <td>Noodles</td>\n",
       "      <td>70</td>\n",
       "      <td>Jaipur</td>\n",
       "      <td>Orange</td>\n",
       "      <td>Chinese</td>\n",
       "      <td>spicy</td>\n",
       "    </tr>\n",
       "    <tr>\n",
       "      <td>2</td>\n",
       "      <td>Pasta</td>\n",
       "      <td>80</td>\n",
       "      <td>Mumbai</td>\n",
       "      <td>white</td>\n",
       "      <td>Mexican</td>\n",
       "      <td>moderate sweet</td>\n",
       "    </tr>\n",
       "    <tr>\n",
       "      <td>3</td>\n",
       "      <td>Dal Bati</td>\n",
       "      <td>50</td>\n",
       "      <td>Jaipur</td>\n",
       "      <td>Brown</td>\n",
       "      <td>Rajasthani</td>\n",
       "      <td>spicy</td>\n",
       "    </tr>\n",
       "    <tr>\n",
       "      <td>4</td>\n",
       "      <td>Masal Dosa</td>\n",
       "      <td>80</td>\n",
       "      <td>kochi</td>\n",
       "      <td>brown</td>\n",
       "      <td>South Indian</td>\n",
       "      <td>spicy</td>\n",
       "    </tr>\n",
       "    <tr>\n",
       "      <td>5</td>\n",
       "      <td>Momos</td>\n",
       "      <td>70</td>\n",
       "      <td>Gangtok</td>\n",
       "      <td>white</td>\n",
       "      <td>North eastern</td>\n",
       "      <td>spicy</td>\n",
       "    </tr>\n",
       "    <tr>\n",
       "      <td>6</td>\n",
       "      <td>Misal Pav</td>\n",
       "      <td>40</td>\n",
       "      <td>Bandra</td>\n",
       "      <td>brown</td>\n",
       "      <td>maharashtrian\\t</td>\n",
       "      <td>spicy</td>\n",
       "    </tr>\n",
       "    <tr>\n",
       "      <td>7</td>\n",
       "      <td>Rosogulla</td>\n",
       "      <td>100</td>\n",
       "      <td>kolkata</td>\n",
       "      <td>white</td>\n",
       "      <td>Bengali</td>\n",
       "      <td>sweet</td>\n",
       "    </tr>\n",
       "    <tr>\n",
       "      <td>8</td>\n",
       "      <td>Appam</td>\n",
       "      <td>90</td>\n",
       "      <td>kollam</td>\n",
       "      <td>brown</td>\n",
       "      <td>South indian</td>\n",
       "      <td>sweet</td>\n",
       "    </tr>\n",
       "    <tr>\n",
       "      <td>9</td>\n",
       "      <td>Lassi</td>\n",
       "      <td>50</td>\n",
       "      <td>Jhalandar</td>\n",
       "      <td>white</td>\n",
       "      <td>punjabi</td>\n",
       "      <td>sweet</td>\n",
       "    </tr>\n",
       "    <tr>\n",
       "      <td>10</td>\n",
       "      <td>idli sambhar</td>\n",
       "      <td>80</td>\n",
       "      <td>kochi</td>\n",
       "      <td>white</td>\n",
       "      <td>South Indian</td>\n",
       "      <td>spicy</td>\n",
       "    </tr>\n",
       "    <tr>\n",
       "      <td>11</td>\n",
       "      <td>Mysore Pak</td>\n",
       "      <td>120</td>\n",
       "      <td>Mysuru</td>\n",
       "      <td>yellow</td>\n",
       "      <td>South Indian</td>\n",
       "      <td>sweet</td>\n",
       "    </tr>\n",
       "    <tr>\n",
       "      <td>12</td>\n",
       "      <td>Ghevar</td>\n",
       "      <td>150</td>\n",
       "      <td>Jaipur</td>\n",
       "      <td>orangish brown</td>\n",
       "      <td>Rajasthani</td>\n",
       "      <td>sweet</td>\n",
       "    </tr>\n",
       "    <tr>\n",
       "      <td>13</td>\n",
       "      <td>Biryani</td>\n",
       "      <td>80</td>\n",
       "      <td>Secunderabad</td>\n",
       "      <td>Yellow</td>\n",
       "      <td>South Indian</td>\n",
       "      <td>spicy</td>\n",
       "    </tr>\n",
       "    <tr>\n",
       "      <td>14</td>\n",
       "      <td>Paneer</td>\n",
       "      <td>100</td>\n",
       "      <td>Gurugram</td>\n",
       "      <td>white</td>\n",
       "      <td>North western</td>\n",
       "      <td>spicy</td>\n",
       "    </tr>\n",
       "    <tr>\n",
       "      <td>15</td>\n",
       "      <td>Aloo Paratha</td>\n",
       "      <td>80</td>\n",
       "      <td>New Delhi</td>\n",
       "      <td>Brownish</td>\n",
       "      <td>North western</td>\n",
       "      <td>moderate spicy</td>\n",
       "    </tr>\n",
       "    <tr>\n",
       "      <td>16</td>\n",
       "      <td>Gulab Jamun</td>\n",
       "      <td>110</td>\n",
       "      <td>Jodhpur</td>\n",
       "      <td>Brown</td>\n",
       "      <td>rajasthani</td>\n",
       "      <td>sweet</td>\n",
       "    </tr>\n",
       "    <tr>\n",
       "      <td>17</td>\n",
       "      <td>Ker sangari</td>\n",
       "      <td>90</td>\n",
       "      <td>Jaipur</td>\n",
       "      <td>Brown</td>\n",
       "      <td>Rajasthani</td>\n",
       "      <td>moderate spicy</td>\n",
       "    </tr>\n",
       "    <tr>\n",
       "      <td>18</td>\n",
       "      <td>Besan ke gatte</td>\n",
       "      <td>80</td>\n",
       "      <td>Jhodpur</td>\n",
       "      <td>Orange</td>\n",
       "      <td>Rajasthani</td>\n",
       "      <td>spicy</td>\n",
       "    </tr>\n",
       "  </tbody>\n",
       "</table>\n",
       "</div>"
      ],
      "text/plain": [
       "         Food Name  Price          City            Color          Cuisine  \\\n",
       "0           Dhokla     30     Ahemdabad           Yellow          Gujrati   \n",
       "1          Noodles     70        Jaipur           Orange          Chinese   \n",
       "2            Pasta     80        Mumbai            white          Mexican   \n",
       "3         Dal Bati     50        Jaipur            Brown       Rajasthani   \n",
       "4       Masal Dosa     80         kochi            brown     South Indian   \n",
       "5            Momos     70       Gangtok            white    North eastern   \n",
       "6        Misal Pav     40        Bandra            brown  maharashtrian\\t   \n",
       "7        Rosogulla    100       kolkata            white          Bengali   \n",
       "8            Appam     90        kollam            brown     South indian   \n",
       "9            Lassi     50     Jhalandar            white          punjabi   \n",
       "10    idli sambhar     80         kochi            white     South Indian   \n",
       "11      Mysore Pak    120        Mysuru           yellow     South Indian   \n",
       "12          Ghevar    150        Jaipur  orangish brown        Rajasthani   \n",
       "13         Biryani     80  Secunderabad           Yellow     South Indian   \n",
       "14          Paneer    100      Gurugram            white    North western   \n",
       "15    Aloo Paratha     80     New Delhi         Brownish    North western   \n",
       "16     Gulab Jamun    110       Jodhpur            Brown       rajasthani   \n",
       "17     Ker sangari     90        Jaipur            Brown       Rajasthani   \n",
       "18  Besan ke gatte     80       Jhodpur           Orange       Rajasthani   \n",
       "\n",
       "              Taste  \n",
       "0   sweet and spicy  \n",
       "1             spicy  \n",
       "2    moderate sweet  \n",
       "3             spicy  \n",
       "4             spicy  \n",
       "5             spicy  \n",
       "6             spicy  \n",
       "7             sweet  \n",
       "8             sweet  \n",
       "9             sweet  \n",
       "10            spicy  \n",
       "11            sweet  \n",
       "12            sweet  \n",
       "13            spicy  \n",
       "14            spicy  \n",
       "15   moderate spicy  \n",
       "16            sweet  \n",
       "17   moderate spicy  \n",
       "18            spicy  "
      ]
     },
     "execution_count": 3,
     "metadata": {},
     "output_type": "execute_result"
    }
   ],
   "source": [
    "df"
   ]
  },
  {
   "cell_type": "code",
   "execution_count": 103,
   "metadata": {},
   "outputs": [
    {
     "data": {
      "text/html": [
       "<div>\n",
       "<style scoped>\n",
       "    .dataframe tbody tr th:only-of-type {\n",
       "        vertical-align: middle;\n",
       "    }\n",
       "\n",
       "    .dataframe tbody tr th {\n",
       "        vertical-align: top;\n",
       "    }\n",
       "\n",
       "    .dataframe thead th {\n",
       "        text-align: right;\n",
       "    }\n",
       "</style>\n",
       "<table border=\"1\" class=\"dataframe\">\n",
       "  <thead>\n",
       "    <tr style=\"text-align: right;\">\n",
       "      <th></th>\n",
       "      <th>Food Name</th>\n",
       "      <th>Price</th>\n",
       "      <th>City</th>\n",
       "      <th>Color</th>\n",
       "      <th>Cuisine</th>\n",
       "      <th>Taste</th>\n",
       "    </tr>\n",
       "  </thead>\n",
       "  <tbody>\n",
       "    <tr>\n",
       "      <td>0</td>\n",
       "      <td>Dhokla</td>\n",
       "      <td>30</td>\n",
       "      <td>Ahemdabad</td>\n",
       "      <td>Yellow</td>\n",
       "      <td>gujrati</td>\n",
       "      <td>sweet and spicy</td>\n",
       "    </tr>\n",
       "    <tr>\n",
       "      <td>1</td>\n",
       "      <td>Noodles</td>\n",
       "      <td>70</td>\n",
       "      <td>Jaipur</td>\n",
       "      <td>Orange</td>\n",
       "      <td>chinese</td>\n",
       "      <td>spicy</td>\n",
       "    </tr>\n",
       "    <tr>\n",
       "      <td>2</td>\n",
       "      <td>Pasta</td>\n",
       "      <td>80</td>\n",
       "      <td>Mumbai</td>\n",
       "      <td>white</td>\n",
       "      <td>mexican</td>\n",
       "      <td>moderate sweet</td>\n",
       "    </tr>\n",
       "    <tr>\n",
       "      <td>3</td>\n",
       "      <td>Dal Bati</td>\n",
       "      <td>50</td>\n",
       "      <td>Jaipur</td>\n",
       "      <td>Brown</td>\n",
       "      <td>rajasthani</td>\n",
       "      <td>spicy</td>\n",
       "    </tr>\n",
       "    <tr>\n",
       "      <td>4</td>\n",
       "      <td>Masal Dosa</td>\n",
       "      <td>80</td>\n",
       "      <td>kochi</td>\n",
       "      <td>brown</td>\n",
       "      <td>south indian</td>\n",
       "      <td>spicy</td>\n",
       "    </tr>\n",
       "  </tbody>\n",
       "</table>\n",
       "</div>"
      ],
      "text/plain": [
       "    Food Name  Price       City   Color       Cuisine            Taste\n",
       "0      Dhokla     30  Ahemdabad  Yellow       gujrati  sweet and spicy\n",
       "1     Noodles     70     Jaipur  Orange       chinese            spicy\n",
       "2       Pasta     80     Mumbai   white       mexican   moderate sweet\n",
       "3    Dal Bati     50     Jaipur   Brown    rajasthani            spicy\n",
       "4  Masal Dosa     80      kochi   brown  south indian            spicy"
      ]
     },
     "execution_count": 103,
     "metadata": {},
     "output_type": "execute_result"
    }
   ],
   "source": [
    "df.head(5)"
   ]
  },
  {
   "cell_type": "code",
   "execution_count": 104,
   "metadata": {},
   "outputs": [
    {
     "data": {
      "text/html": [
       "<div>\n",
       "<style scoped>\n",
       "    .dataframe tbody tr th:only-of-type {\n",
       "        vertical-align: middle;\n",
       "    }\n",
       "\n",
       "    .dataframe tbody tr th {\n",
       "        vertical-align: top;\n",
       "    }\n",
       "\n",
       "    .dataframe thead th {\n",
       "        text-align: right;\n",
       "    }\n",
       "</style>\n",
       "<table border=\"1\" class=\"dataframe\">\n",
       "  <thead>\n",
       "    <tr style=\"text-align: right;\">\n",
       "      <th></th>\n",
       "      <th>Price</th>\n",
       "    </tr>\n",
       "  </thead>\n",
       "  <tbody>\n",
       "    <tr>\n",
       "      <td>count</td>\n",
       "      <td>19.000000</td>\n",
       "    </tr>\n",
       "    <tr>\n",
       "      <td>mean</td>\n",
       "      <td>81.578947</td>\n",
       "    </tr>\n",
       "    <tr>\n",
       "      <td>std</td>\n",
       "      <td>28.335913</td>\n",
       "    </tr>\n",
       "    <tr>\n",
       "      <td>min</td>\n",
       "      <td>30.000000</td>\n",
       "    </tr>\n",
       "    <tr>\n",
       "      <td>25%</td>\n",
       "      <td>70.000000</td>\n",
       "    </tr>\n",
       "    <tr>\n",
       "      <td>50%</td>\n",
       "      <td>80.000000</td>\n",
       "    </tr>\n",
       "    <tr>\n",
       "      <td>75%</td>\n",
       "      <td>95.000000</td>\n",
       "    </tr>\n",
       "    <tr>\n",
       "      <td>max</td>\n",
       "      <td>150.000000</td>\n",
       "    </tr>\n",
       "  </tbody>\n",
       "</table>\n",
       "</div>"
      ],
      "text/plain": [
       "            Price\n",
       "count   19.000000\n",
       "mean    81.578947\n",
       "std     28.335913\n",
       "min     30.000000\n",
       "25%     70.000000\n",
       "50%     80.000000\n",
       "75%     95.000000\n",
       "max    150.000000"
      ]
     },
     "execution_count": 104,
     "metadata": {},
     "output_type": "execute_result"
    }
   ],
   "source": [
    "df.describe()"
   ]
  },
  {
   "cell_type": "markdown",
   "metadata": {},
   "source": [
    "### No Null data in given dataset"
   ]
  },
  {
   "cell_type": "code",
   "execution_count": 106,
   "metadata": {},
   "outputs": [
    {
     "data": {
      "text/plain": [
       "Food Name    0\n",
       "Price        0\n",
       "City         0\n",
       "Color        0\n",
       "Cuisine      0\n",
       "Taste        0\n",
       "dtype: int64"
      ]
     },
     "execution_count": 106,
     "metadata": {},
     "output_type": "execute_result"
    }
   ],
   "source": [
    "df.isnull().sum()"
   ]
  },
  {
   "cell_type": "code",
   "execution_count": 5,
   "metadata": {},
   "outputs": [
    {
     "data": {
      "text/plain": [
       "Index(['Food Name', 'Price', 'City', 'Color', 'Cuisine', 'Taste'], dtype='object')"
      ]
     },
     "execution_count": 5,
     "metadata": {},
     "output_type": "execute_result"
    }
   ],
   "source": [
    "df.columns"
   ]
  },
  {
   "cell_type": "code",
   "execution_count": 6,
   "metadata": {},
   "outputs": [],
   "source": [
    "arr = df.values"
   ]
  },
  {
   "cell_type": "code",
   "execution_count": 85,
   "metadata": {},
   "outputs": [
    {
     "data": {
      "text/plain": [
       "(19, 6)"
      ]
     },
     "execution_count": 85,
     "metadata": {},
     "output_type": "execute_result"
    }
   ],
   "source": [
    "arr.shape"
   ]
  },
  {
   "cell_type": "code",
   "execution_count": 8,
   "metadata": {},
   "outputs": [
    {
     "data": {
      "text/plain": [
       "114"
      ]
     },
     "execution_count": 8,
     "metadata": {},
     "output_type": "execute_result"
    }
   ],
   "source": [
    "arr.size"
   ]
  },
  {
   "cell_type": "code",
   "execution_count": 9,
   "metadata": {},
   "outputs": [],
   "source": [
    "c=df[['Cuisine','Price']][df['Price']>70]"
   ]
  },
  {
   "cell_type": "code",
   "execution_count": 10,
   "metadata": {},
   "outputs": [],
   "source": [
    "d={}"
   ]
  },
  {
   "cell_type": "code",
   "execution_count": 11,
   "metadata": {},
   "outputs": [
    {
     "data": {
      "text/plain": [
       "array(['Mexican', 'South Indian', 'Bengali', 'South indian', 'Rajasthani',\n",
       "       'North western', 'rajasthani'], dtype=object)"
      ]
     },
     "execution_count": 11,
     "metadata": {},
     "output_type": "execute_result"
    }
   ],
   "source": [
    "u= c['Cuisine'].unique()\n",
    "u"
   ]
  },
  {
   "cell_type": "code",
   "execution_count": 12,
   "metadata": {},
   "outputs": [
    {
     "data": {
      "text/plain": [
       "South Indian       4\n",
       "Rajasthani         4\n",
       "North western      2\n",
       "punjabi            1\n",
       "North eastern      1\n",
       "Chinese            1\n",
       "Gujrati            1\n",
       "Bengali            1\n",
       "rajasthani         1\n",
       "Mexican            1\n",
       "maharashtrian\\t    1\n",
       "South indian       1\n",
       "Name: Cuisine, dtype: int64"
      ]
     },
     "execution_count": 12,
     "metadata": {},
     "output_type": "execute_result"
    }
   ],
   "source": [
    "df['Cuisine'].value_counts()"
   ]
  },
  {
   "cell_type": "markdown",
   "metadata": {},
   "source": [
    "### Costliest Food"
   ]
  },
  {
   "cell_type": "code",
   "execution_count": 13,
   "metadata": {},
   "outputs": [
    {
     "data": {
      "text/html": [
       "<div>\n",
       "<style scoped>\n",
       "    .dataframe tbody tr th:only-of-type {\n",
       "        vertical-align: middle;\n",
       "    }\n",
       "\n",
       "    .dataframe tbody tr th {\n",
       "        vertical-align: top;\n",
       "    }\n",
       "\n",
       "    .dataframe thead th {\n",
       "        text-align: right;\n",
       "    }\n",
       "</style>\n",
       "<table border=\"1\" class=\"dataframe\">\n",
       "  <thead>\n",
       "    <tr style=\"text-align: right;\">\n",
       "      <th></th>\n",
       "      <th>Food Name</th>\n",
       "      <th>Price</th>\n",
       "    </tr>\n",
       "  </thead>\n",
       "  <tbody>\n",
       "    <tr>\n",
       "      <td>12</td>\n",
       "      <td>Ghevar</td>\n",
       "      <td>150</td>\n",
       "    </tr>\n",
       "  </tbody>\n",
       "</table>\n",
       "</div>"
      ],
      "text/plain": [
       "   Food Name  Price\n",
       "12    Ghevar    150"
      ]
     },
     "execution_count": 13,
     "metadata": {},
     "output_type": "execute_result"
    }
   ],
   "source": [
    "df[['Food Name','Price']][df[\"Price\"]==df[\"Price\"].max()]"
   ]
  },
  {
   "cell_type": "markdown",
   "metadata": {},
   "source": [
    "### Cheapest Sweet"
   ]
  },
  {
   "cell_type": "code",
   "execution_count": 14,
   "metadata": {},
   "outputs": [
    {
     "data": {
      "text/plain": [
       "9    Lassi\n",
       "Name: Food Name, dtype: object"
      ]
     },
     "execution_count": 14,
     "metadata": {},
     "output_type": "execute_result"
    }
   ],
   "source": [
    "df['Food Name'][(df['Taste']=='sweet') & (df['Price'] == df['Price'][df['Taste']=='sweet'].min())]"
   ]
  },
  {
   "cell_type": "markdown",
   "metadata": {},
   "source": [
    "### Sweet found in kolkata"
   ]
  },
  {
   "cell_type": "code",
   "execution_count": 15,
   "metadata": {},
   "outputs": [
    {
     "data": {
      "text/plain": [
       "7    Rosogulla\n",
       "Name: Food Name, dtype: object"
      ]
     },
     "execution_count": 15,
     "metadata": {},
     "output_type": "execute_result"
    }
   ],
   "source": [
    "df['Food Name'][(df['Color']=='white') & (df['City']=='kolkata')]"
   ]
  },
  {
   "cell_type": "markdown",
   "metadata": {},
   "source": [
    "### Most Popular Cuisine"
   ]
  },
  {
   "cell_type": "code",
   "execution_count": 16,
   "metadata": {},
   "outputs": [
    {
     "data": {
      "text/plain": [
       "South Indian       4\n",
       "Rajasthani         4\n",
       "North western      2\n",
       "punjabi            1\n",
       "North eastern      1\n",
       "Chinese            1\n",
       "Gujrati            1\n",
       "Bengali            1\n",
       "rajasthani         1\n",
       "Mexican            1\n",
       "maharashtrian\\t    1\n",
       "South indian       1\n",
       "Name: Cuisine, dtype: int64"
      ]
     },
     "execution_count": 16,
     "metadata": {},
     "output_type": "execute_result"
    }
   ],
   "source": [
    "c=df['Cuisine'].value_counts()\n",
    "c"
   ]
  },
  {
   "cell_type": "code",
   "execution_count": 17,
   "metadata": {},
   "outputs": [
    {
     "data": {
      "text/plain": [
       "'South Indian'"
      ]
     },
     "execution_count": 17,
     "metadata": {},
     "output_type": "execute_result"
    }
   ],
   "source": [
    "df['Cuisine'][df['Cuisine'].value_counts().max()]"
   ]
  },
  {
   "cell_type": "code",
   "execution_count": 18,
   "metadata": {},
   "outputs": [],
   "source": [
    "df['Cuisine'].replace({'maharashtrian\\t':'maharashtrian'},inplace=True)"
   ]
  },
  {
   "cell_type": "code",
   "execution_count": 19,
   "metadata": {},
   "outputs": [],
   "source": [
    "def func(x):\n",
    "    return np.count_nonzero(df['Cuisine']==x) "
   ]
  },
  {
   "cell_type": "code",
   "execution_count": 40,
   "metadata": {
    "scrolled": true
   },
   "outputs": [],
   "source": [
    "cuisines_count= list(set([(func(i),i) for i in df['Cuisine'].values]))"
   ]
  },
  {
   "cell_type": "code",
   "execution_count": 41,
   "metadata": {},
   "outputs": [],
   "source": [
    "cuisines_count.sort(reverse=True)"
   ]
  },
  {
   "cell_type": "code",
   "execution_count": 42,
   "metadata": {},
   "outputs": [],
   "source": [
    "cuisine_count= [i[::-1] for i in cuisines_count ]"
   ]
  },
  {
   "cell_type": "code",
   "execution_count": 43,
   "metadata": {},
   "outputs": [
    {
     "data": {
      "text/plain": [
       "[('South Indian', 4),\n",
       " ('Rajasthani', 4),\n",
       " ('North western', 2),\n",
       " ('rajasthani', 1),\n",
       " ('punjabi', 1),\n",
       " ('maharashtrian', 1),\n",
       " ('South indian', 1),\n",
       " ('North eastern', 1),\n",
       " ('Mexican', 1),\n",
       " ('Gujrati', 1),\n",
       " ('Chinese', 1),\n",
       " ('Bengali', 1)]"
      ]
     },
     "execution_count": 43,
     "metadata": {},
     "output_type": "execute_result"
    }
   ],
   "source": [
    "cuisine_count"
   ]
  },
  {
   "cell_type": "code",
   "execution_count": 45,
   "metadata": {},
   "outputs": [],
   "source": [
    "most_popular_cuisine=pd.DataFrame(cuisine_count,columns=['City','Count'])"
   ]
  },
  {
   "cell_type": "code",
   "execution_count": 48,
   "metadata": {},
   "outputs": [
    {
     "data": {
      "text/plain": [
       "0    South Indian\n",
       "1      Rajasthani\n",
       "Name: City, dtype: object"
      ]
     },
     "execution_count": 48,
     "metadata": {},
     "output_type": "execute_result"
    }
   ],
   "source": [
    "most_popular_cuisine['City'][most_popular_cuisine['Count']==most_popular_cuisine['Count'].max()]"
   ]
  },
  {
   "cell_type": "markdown",
   "metadata": {},
   "source": [
    "### Count of Different Tastes"
   ]
  },
  {
   "cell_type": "code",
   "execution_count": 50,
   "metadata": {},
   "outputs": [
    {
     "data": {
      "text/plain": [
       "spicy              9\n",
       "sweet              6\n",
       "moderate spicy     2\n",
       "moderate sweet     1\n",
       "sweet and spicy    1\n",
       "Name: Taste, dtype: int64"
      ]
     },
     "execution_count": 50,
     "metadata": {},
     "output_type": "execute_result"
    }
   ],
   "source": [
    "df['Taste'].value_counts()"
   ]
  },
  {
   "cell_type": "markdown",
   "metadata": {},
   "source": [
    "### Sweet available in Jaipur "
   ]
  },
  {
   "cell_type": "code",
   "execution_count": 55,
   "metadata": {},
   "outputs": [
    {
     "data": {
      "text/plain": [
       "12    Ghevar\n",
       "Name: Food Name, dtype: object"
      ]
     },
     "execution_count": 55,
     "metadata": {},
     "output_type": "execute_result"
    }
   ],
   "source": [
    "df['Food Name'][(df['City']=='Jaipur') & (df['Taste']=='sweet')]"
   ]
  },
  {
   "cell_type": "markdown",
   "metadata": {},
   "source": [
    "### All unique Cities list"
   ]
  },
  {
   "cell_type": "code",
   "execution_count": 56,
   "metadata": {},
   "outputs": [
    {
     "data": {
      "text/plain": [
       "array(['Ahemdabad', 'Jaipur', 'Mumbai', 'kochi', 'Gangtok', 'Bandra',\n",
       "       'kolkata', 'kollam', 'Jhalandar', 'Mysuru', 'Secunderabad',\n",
       "       'Gurugram', 'New Delhi', 'Jodhpur', 'Jhodpur'], dtype=object)"
      ]
     },
     "execution_count": 56,
     "metadata": {},
     "output_type": "execute_result"
    }
   ],
   "source": [
    "df['City'].unique()"
   ]
  },
  {
   "cell_type": "markdown",
   "metadata": {},
   "source": [
    "### Top 5 Most Expensive spicy food"
   ]
  },
  {
   "cell_type": "code",
   "execution_count": 75,
   "metadata": {},
   "outputs": [
    {
     "data": {
      "text/html": [
       "<div>\n",
       "<style scoped>\n",
       "    .dataframe tbody tr th:only-of-type {\n",
       "        vertical-align: middle;\n",
       "    }\n",
       "\n",
       "    .dataframe tbody tr th {\n",
       "        vertical-align: top;\n",
       "    }\n",
       "\n",
       "    .dataframe thead th {\n",
       "        text-align: right;\n",
       "    }\n",
       "</style>\n",
       "<table border=\"1\" class=\"dataframe\">\n",
       "  <thead>\n",
       "    <tr style=\"text-align: right;\">\n",
       "      <th></th>\n",
       "      <th>Food Name</th>\n",
       "      <th>Price</th>\n",
       "    </tr>\n",
       "  </thead>\n",
       "  <tbody>\n",
       "    <tr>\n",
       "      <td>14</td>\n",
       "      <td>Paneer</td>\n",
       "      <td>100</td>\n",
       "    </tr>\n",
       "    <tr>\n",
       "      <td>4</td>\n",
       "      <td>Masal Dosa</td>\n",
       "      <td>80</td>\n",
       "    </tr>\n",
       "    <tr>\n",
       "      <td>10</td>\n",
       "      <td>idli sambhar</td>\n",
       "      <td>80</td>\n",
       "    </tr>\n",
       "    <tr>\n",
       "      <td>13</td>\n",
       "      <td>Biryani</td>\n",
       "      <td>80</td>\n",
       "    </tr>\n",
       "    <tr>\n",
       "      <td>18</td>\n",
       "      <td>Besan ke gatte</td>\n",
       "      <td>80</td>\n",
       "    </tr>\n",
       "  </tbody>\n",
       "</table>\n",
       "</div>"
      ],
      "text/plain": [
       "         Food Name  Price\n",
       "14          Paneer    100\n",
       "4       Masal Dosa     80\n",
       "10    idli sambhar     80\n",
       "13         Biryani     80\n",
       "18  Besan ke gatte     80"
      ]
     },
     "execution_count": 75,
     "metadata": {},
     "output_type": "execute_result"
    }
   ],
   "source": [
    "df[['Food Name','Price']][df['Taste']=='spicy'].sort_values(by='Price',ascending=False).head(5)"
   ]
  },
  {
   "cell_type": "markdown",
   "metadata": {},
   "source": [
    "### Top 5 most Expensive food"
   ]
  },
  {
   "cell_type": "code",
   "execution_count": 82,
   "metadata": {},
   "outputs": [
    {
     "data": {
      "text/html": [
       "<div>\n",
       "<style scoped>\n",
       "    .dataframe tbody tr th:only-of-type {\n",
       "        vertical-align: middle;\n",
       "    }\n",
       "\n",
       "    .dataframe tbody tr th {\n",
       "        vertical-align: top;\n",
       "    }\n",
       "\n",
       "    .dataframe thead th {\n",
       "        text-align: right;\n",
       "    }\n",
       "</style>\n",
       "<table border=\"1\" class=\"dataframe\">\n",
       "  <thead>\n",
       "    <tr style=\"text-align: right;\">\n",
       "      <th></th>\n",
       "      <th>Food Name</th>\n",
       "      <th>Price</th>\n",
       "    </tr>\n",
       "  </thead>\n",
       "  <tbody>\n",
       "    <tr>\n",
       "      <td>12</td>\n",
       "      <td>Ghevar</td>\n",
       "      <td>150</td>\n",
       "    </tr>\n",
       "    <tr>\n",
       "      <td>11</td>\n",
       "      <td>Mysore Pak</td>\n",
       "      <td>120</td>\n",
       "    </tr>\n",
       "    <tr>\n",
       "      <td>16</td>\n",
       "      <td>Gulab Jamun</td>\n",
       "      <td>110</td>\n",
       "    </tr>\n",
       "    <tr>\n",
       "      <td>7</td>\n",
       "      <td>Rosogulla</td>\n",
       "      <td>100</td>\n",
       "    </tr>\n",
       "    <tr>\n",
       "      <td>14</td>\n",
       "      <td>Paneer</td>\n",
       "      <td>100</td>\n",
       "    </tr>\n",
       "  </tbody>\n",
       "</table>\n",
       "</div>"
      ],
      "text/plain": [
       "      Food Name  Price\n",
       "12       Ghevar    150\n",
       "11   Mysore Pak    120\n",
       "16  Gulab Jamun    110\n",
       "7     Rosogulla    100\n",
       "14       Paneer    100"
      ]
     },
     "execution_count": 82,
     "metadata": {},
     "output_type": "execute_result"
    }
   ],
   "source": [
    "df[['Food Name','Price']].sort_values(by='Price',ascending=False).head(5)"
   ]
  },
  {
   "cell_type": "markdown",
   "metadata": {},
   "source": [
    "### City where i can find Momos"
   ]
  },
  {
   "cell_type": "code",
   "execution_count": 84,
   "metadata": {},
   "outputs": [
    {
     "data": {
      "text/plain": [
       "5    Gangtok\n",
       "Name: City, dtype: object"
      ]
     },
     "execution_count": 84,
     "metadata": {},
     "output_type": "execute_result"
    }
   ],
   "source": [
    "df['City'][df['Food Name']=='Momos']"
   ]
  },
  {
   "cell_type": "code",
   "execution_count": 96,
   "metadata": {},
   "outputs": [],
   "source": [
    "#df['Cuisine']=df['Cuisine'].apply(lambda x:x.lower())"
   ]
  },
  {
   "cell_type": "markdown",
   "metadata": {},
   "source": [
    "### list all rajasthani cuisine"
   ]
  },
  {
   "cell_type": "code",
   "execution_count": 102,
   "metadata": {},
   "outputs": [],
   "source": [
    "df['Cuisine']=df['Cuisine'].apply(lambda x:x.lower())"
   ]
  },
  {
   "cell_type": "code",
   "execution_count": 101,
   "metadata": {},
   "outputs": [
    {
     "data": {
      "text/html": [
       "<div>\n",
       "<style scoped>\n",
       "    .dataframe tbody tr th:only-of-type {\n",
       "        vertical-align: middle;\n",
       "    }\n",
       "\n",
       "    .dataframe tbody tr th {\n",
       "        vertical-align: top;\n",
       "    }\n",
       "\n",
       "    .dataframe thead th {\n",
       "        text-align: right;\n",
       "    }\n",
       "</style>\n",
       "<table border=\"1\" class=\"dataframe\">\n",
       "  <thead>\n",
       "    <tr style=\"text-align: right;\">\n",
       "      <th></th>\n",
       "      <th>Food Name</th>\n",
       "      <th>Price</th>\n",
       "      <th>City</th>\n",
       "      <th>Color</th>\n",
       "      <th>Cuisine</th>\n",
       "      <th>Taste</th>\n",
       "    </tr>\n",
       "  </thead>\n",
       "  <tbody>\n",
       "    <tr>\n",
       "      <td>3</td>\n",
       "      <td>Dal Bati</td>\n",
       "      <td>50</td>\n",
       "      <td>Jaipur</td>\n",
       "      <td>Brown</td>\n",
       "      <td>rajasthani</td>\n",
       "      <td>spicy</td>\n",
       "    </tr>\n",
       "    <tr>\n",
       "      <td>12</td>\n",
       "      <td>Ghevar</td>\n",
       "      <td>150</td>\n",
       "      <td>Jaipur</td>\n",
       "      <td>orangish brown</td>\n",
       "      <td>rajasthani</td>\n",
       "      <td>sweet</td>\n",
       "    </tr>\n",
       "    <tr>\n",
       "      <td>16</td>\n",
       "      <td>Gulab Jamun</td>\n",
       "      <td>110</td>\n",
       "      <td>Jodhpur</td>\n",
       "      <td>Brown</td>\n",
       "      <td>rajasthani</td>\n",
       "      <td>sweet</td>\n",
       "    </tr>\n",
       "    <tr>\n",
       "      <td>17</td>\n",
       "      <td>Ker sangari</td>\n",
       "      <td>90</td>\n",
       "      <td>Jaipur</td>\n",
       "      <td>Brown</td>\n",
       "      <td>rajasthani</td>\n",
       "      <td>moderate spicy</td>\n",
       "    </tr>\n",
       "    <tr>\n",
       "      <td>18</td>\n",
       "      <td>Besan ke gatte</td>\n",
       "      <td>80</td>\n",
       "      <td>Jhodpur</td>\n",
       "      <td>Orange</td>\n",
       "      <td>rajasthani</td>\n",
       "      <td>spicy</td>\n",
       "    </tr>\n",
       "  </tbody>\n",
       "</table>\n",
       "</div>"
      ],
      "text/plain": [
       "         Food Name  Price     City            Color     Cuisine  \\\n",
       "3         Dal Bati     50   Jaipur            Brown  rajasthani   \n",
       "12          Ghevar    150   Jaipur  orangish brown   rajasthani   \n",
       "16     Gulab Jamun    110  Jodhpur            Brown  rajasthani   \n",
       "17     Ker sangari     90   Jaipur            Brown  rajasthani   \n",
       "18  Besan ke gatte     80  Jhodpur           Orange  rajasthani   \n",
       "\n",
       "             Taste  \n",
       "3            spicy  \n",
       "12           sweet  \n",
       "16           sweet  \n",
       "17  moderate spicy  \n",
       "18           spicy  "
      ]
     },
     "execution_count": 101,
     "metadata": {},
     "output_type": "execute_result"
    }
   ],
   "source": [
    "df[df['Cuisine']=='rajasthani']"
   ]
  },
  {
   "cell_type": "code",
   "execution_count": null,
   "metadata": {},
   "outputs": [],
   "source": []
  }
 ],
 "metadata": {
  "kernelspec": {
   "display_name": "Python 3",
   "language": "python",
   "name": "python3"
  },
  "language_info": {
   "codemirror_mode": {
    "name": "ipython",
    "version": 3
   },
   "file_extension": ".py",
   "mimetype": "text/x-python",
   "name": "python",
   "nbconvert_exporter": "python",
   "pygments_lexer": "ipython3",
   "version": "3.7.4"
  }
 },
 "nbformat": 4,
 "nbformat_minor": 2
}
